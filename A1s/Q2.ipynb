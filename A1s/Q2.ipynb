{
 "cells": [
  {
   "cell_type": "markdown",
   "metadata": {},
   "source": [
    "**Importing important libraries**"
   ]
  },
  {
   "cell_type": "code",
   "execution_count": 6,
   "metadata": {},
   "outputs": [],
   "source": [
    "import numpy as np\n",
    "import matplotlib.pyplot as plt\n",
    "from matplotlib.pyplot import figure"
   ]
  },
  {
   "cell_type": "markdown",
   "metadata": {},
   "source": [
    "**Finding random values for p0, p1, p**"
   ]
  },
  {
   "cell_type": "code",
   "execution_count": 7,
   "metadata": {
    "scrolled": true
   },
   "outputs": [
    {
     "name": "stdout",
     "output_type": "stream",
     "text": [
      "('p0', [0.526621404049955, 0.9322550652543745])\n",
      "('p1', [0.8770490668784996, 0.19123892683148025])\n",
      "('p', [0.31754494872671524, 0.020331429704683934])\n"
     ]
    }
   ],
   "source": [
    "p0 = [np.random.random(),np.random.random()]\n",
    "p1 = [np.random.random(),np.random.random()]\n",
    "p = [np.random.random(),np.random.random()]\n",
    "print(\"p0\",p0)\n",
    "print(\"p1\",p1)\n",
    "print(\"p\",p)"
   ]
  },
  {
   "cell_type": "markdown",
   "metadata": {},
   "source": [
    "**Checking the condition that point p doesn't lie on the line formed by joining p0 and p1**"
   ]
  },
  {
   "cell_type": "code",
   "execution_count": 8,
   "metadata": {},
   "outputs": [
    {
     "name": "stdout",
     "output_type": "stream",
     "text": [
      "('p0', [0.526621404049955, 0.9322550652543745])\n",
      "('p1', [0.8770490668784996, 0.19123892683148025])\n",
      "('p', [0.31754494872671524, 0.020331429704683934])\n"
     ]
    }
   ],
   "source": [
    "while p0==p1:\n",
    "    p1 = [np.random.random(),np.random.random()]\n",
    "    \n",
    "while p0[0]-p1[0]==0 and p[0]-p1[0]==0:\n",
    "    while p0[1]-p1[1]==p[1]-p1[1]:\n",
    "        p = [np.random.random(),np.random.random()]\n",
    "        \n",
    "if p0[0]-p1[0]!=0:\n",
    "    if p[0]-p1[0]!=0:\n",
    "        while (p0[1]-p1[1])/(p0[0]-p1[0])==(p[1]-p1[1])/(p[0]-p1[0]):\n",
    "            p = [np.random.random(),np.random.random()]\n",
    "            if p[0]-p1[0]==0:\n",
    "                break\n",
    "                \n",
    "print(\"p0\",p0)\n",
    "print(\"p1\",p1)\n",
    "print(\"p\",p)"
   ]
  },
  {
   "cell_type": "markdown",
   "metadata": {},
   "source": [
    "**Calculating the distance and parameters for equations of both the lines**"
   ]
  },
  {
   "cell_type": "code",
   "execution_count": 9,
   "metadata": {},
   "outputs": [
    {
     "name": "stdout",
     "output_type": "stream",
     "text": [
      "('Distance', 0.5788624814750943)\n"
     ]
    }
   ],
   "source": [
    "if p0[0]-p1[0]==0:\n",
    "    distance = p[0]-p1[0]\n",
    "    #print(distance)\n",
    "else:\n",
    "    a = float(p0[1]-p1[1])/float(p0[0]-p1[0])\n",
    "    b = -1\n",
    "    slope = float(p0[1]-p1[1])/float(p0[0]-p1[0])\n",
    "    c = p1[1] - slope*p1[0]\n",
    "    distance = np.abs(a*p[0] + b*p[1] + c)/np.sqrt(a*a + b*b)  \n",
    "    per_slope = -float(p0[0]-p1[0])/float(p0[1]-p1[1])\n",
    "    per_c = p[1] - per_slope*p[0]\n",
    "    #print(a,b,c,distance,slope,per_slope,per_c)\n",
    "print('Distance',distance)"
   ]
  },
  {
   "cell_type": "markdown",
   "metadata": {},
   "source": [
    "**Plotting the lines**"
   ]
  },
  {
   "cell_type": "code",
   "execution_count": 12,
   "metadata": {},
   "outputs": [
    {
     "data": {
      "image/png": "[encoded data removed]",
      "text/plain": [
       "<Figure size 720x720 with 1 Axes>"
      ]
     },
     "metadata": {
      "needs_background": "light"
     },
     "output_type": "display_data"
    },
    {
     "name": "stdout",
     "output_type": "stream",
     "text": [
      "('Distance', 0.5788624814750943)\n"
     ]
    }
   ],
   "source": [
    "vis = np.maximum(np.abs(c),np.abs(per_c))\n",
    "vis = np.maximum(vis,np.abs(slope + c))\n",
    "vis = np.maximum(vis,np.abs(per_slope + per_c))\n",
    "if p0[0]-p1[0]==0:\n",
    "    y = [-vis,vis]\n",
    "    x = [p0[0],p0[0]]\n",
    "    y_per = [p[1],p[1]]\n",
    "    x_per = [0,1]\n",
    "elif slope==0:\n",
    "    x = [0,1]\n",
    "    y = [p1[1],p1[1]]\n",
    "    x_per = [p[0],p[0]]\n",
    "    y_per = [-vis,vis]\n",
    "else:\n",
    "    x = [0,1]\n",
    "    y = [c,slope+c]\n",
    "    x_per = x\n",
    "    y_per = [per_c,per_slope+per_c]\n",
    "   \n",
    "axis = [[-vis, vis], [0, 0]]\n",
    "plt.figure(figsize=(10, 10))\n",
    "plt.plot(x,y);\n",
    "plt.plot(x_per,y_per)\n",
    "plt.plot(axis[0], axis[1])\n",
    "plt.plot(axis[1], axis[0])\n",
    "plt.plot(p[0],p[1],'o')\n",
    "plt.plot(p0[0],p0[1],'o')\n",
    "plt.plot(p1[0],p1[1],'o')\n",
    "plt.annotate('p', (p[0],p[1]), textcoords=\"offset points\", xytext=(0,10), ha='left')\n",
    "plt.annotate('p0', (p0[0],p0[1]), textcoords=\"offset points\", xytext=(0,10), ha='left')\n",
    "plt.annotate('p1', (p1[0],p1[1]), textcoords=\"offset points\", xytext=(0,10), ha='left')\n",
    "plt.show()\n",
    "print('Distance',distance)"
   ]
  },
  {
   "cell_type": "code",
   "execution_count": null,
   "metadata": {},
   "outputs": [],
   "source": []
  }
 ],
 "metadata": {
  "kernelspec": {
   "display_name": "Python 3",
   "language": "python",
   "name": "python3"
  },
  "language_info": {
   "codemirror_mode": {
    "name": "ipython",
    "version": 2
   },
   "file_extension": ".py",
   "mimetype": "text/x-python",
   "name": "python",
   "nbconvert_exporter": "python",
   "pygments_lexer": "ipython2",
   "version": "2.7.17"
  }
 },
 "nbformat": 4,
 "nbformat_minor": 2
}
