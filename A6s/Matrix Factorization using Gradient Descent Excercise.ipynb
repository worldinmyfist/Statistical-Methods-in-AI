{
 "cells": [
  {
   "cell_type": "markdown",
   "metadata": {},
   "source": [
    "# Matrix Factorization using Gradient Descent\n",
    "\n",
    "In this excercise, you are required to implement matrix factorization method, specifically [Non-Negative Matrix Factorization (NMF)](https://en.wikipedia.org/wiki/Non-negative_matrix_factorization), using gradient descent. You have to apply the matrix factorization to solve topic modeling. \n",
    "\n",
    "(Please refer to the tutorial on basics of topic modeling, LSI with SVD (Tutorial Set 4), for details on LSI)\n",
    "\n",
    "## Applying NMF to solve Topic Modeling\n",
    "Given a term document matrix $V$, NMF factorizes it into two matrix $W$ and $H$ with the property that all three documents have no negative elements.\n",
    "<img src=\"content/NMF.png\" alt=\"Non-negative matrix factorization\" style=\"width: 80%\">\n",
    "\n",
    "In Non-negative Matrix Factorization, a document-term matrix is approximately factorized into term-feature and feature-document matrices.\n",
    "\n",
    "$V = WH$ Matrix multiplication can be implemented as computing the column vectors of $V$ as linear combinations of the basis vectors (column vectors) in $W$ (or the topics discovered from the documents) using coefficients supplied by columns of $H$ (or the membership weights for the topics in each document). That is, each column of V can be computed as follows:\n",
    "$$ v_i = W h_i$$\n",
    "\n",
    "In what follows, we will first see an example of applying NMF by using [SKLearn NMF API](https://scikit-learn.org/stable/modules/generated/sklearn.decomposition.NMF.html) for the task of topic modeling. Later you will be required to implement NMF using gradient descent.\n",
    "\n",
    "### Scikit-Learn implementation of NMF for topic modeling\n",
    "Given a set of multivariate  $n$-dimensional data vectors, they are put into an  $n\\times m$  matrix  $V$  as its columns, where  $m$  is the number of examples in the data set. This matrix  $V$  is approximately factorized into an  $n \\times t$  matrix  $W$  and an  $t \\times m$  matrix  $H$ , where  $t$  is generally less than  $n$  or  $m$ . Hence, this results in a compression of the original data matrix.\n",
    "\n",
    "In terms of topic modeling, the input document-term matrix  $V$  is factorized into a  $n \\times t$  document-topic matrix and a  $t \\times m$  topic-term matrix, where  $t$  is the number of topics produced. Similar to tutorial 4, we will be using 20 NewsFetch dataset for the task."
   ]
  },
  {
   "cell_type": "markdown",
   "metadata": {},
   "source": [
    "#### Imports"
   ]
  },
  {
   "cell_type": "code",
   "execution_count": 16,
   "metadata": {},
   "outputs": [],
   "source": [
    "import numpy as np\n",
    "from sklearn.datasets import fetch_20newsgroups\n",
    "from sklearn.feature_extraction.text import TfidfVectorizer\n",
    "import matplotlib.pyplot as plt\n",
    "\n",
    "%matplotlib inline"
   ]
  },
  {
   "cell_type": "markdown",
   "metadata": {},
   "source": [
    "#### Setup data"
   ]
  },
  {
   "cell_type": "code",
   "execution_count": 17,
   "metadata": {},
   "outputs": [],
   "source": [
    "categories = ['alt.atheism', 'talk.religion.misc', 'comp.graphics', 'sci.space']\n",
    "remove = ('headers', 'footers', 'quotes')\n",
    "newsgroups_train = fetch_20newsgroups(subset='train', categories=categories, remove=remove)\n",
    "newsgroups_test = fetch_20newsgroups(subset='test', categories=categories, remove=remove)\n"
   ]
  },
  {
   "cell_type": "markdown",
   "metadata": {},
   "source": [
    "#### Compute document features"
   ]
  },
  {
   "cell_type": "code",
   "execution_count": 18,
   "metadata": {},
   "outputs": [
    {
     "data": {
      "text/plain": [
       "(2034, 26576)"
      ]
     },
     "execution_count": 18,
     "metadata": {},
     "output_type": "execute_result"
    }
   ],
   "source": [
    "vectorizer_tfidf = TfidfVectorizer(stop_words='english')\n",
    "vectors_tfidf = vectorizer_tfidf.fit_transform(newsgroups_train.data).todense() # (documents, vocab)\n",
    "vectors_tfidf.shape"
   ]
  },
  {
   "cell_type": "markdown",
   "metadata": {},
   "source": [
    "#### Compute NMF using Scikit Learn library\n",
    "\n",
    "We will also write a function to display top 8 words for each topic."
   ]
  },
  {
   "cell_type": "code",
   "execution_count": 19,
   "metadata": {},
   "outputs": [],
   "source": [
    "num_top_words=8\n",
    "vocab = np.array(vectorizer_tfidf.get_feature_names())\n",
    "\n",
    "def show_topics(a):\n",
    "    top_words = lambda t: [vocab[i] for i in np.argsort(t)[:-num_top_words-1:-1]]\n",
    "    topic_words = ([top_words(t) for t in a])\n",
    "    return [' '.join(t) for t in topic_words]"
   ]
  },
  {
   "cell_type": "code",
   "execution_count": 20,
   "metadata": {},
   "outputs": [],
   "source": [
    "from sklearn import decomposition\n",
    "\n",
    "d = 5 # num topics\n",
    "clf = decomposition.NMF(n_components=d, random_state=1)"
   ]
  },
  {
   "cell_type": "code",
   "execution_count": 21,
   "metadata": {},
   "outputs": [],
   "source": [
    "W1 = clf.fit_transform(vectors_tfidf)\n",
    "H1 = clf.components_"
   ]
  },
  {
   "cell_type": "code",
   "execution_count": 22,
   "metadata": {
    "scrolled": true
   },
   "outputs": [
    {
     "data": {
      "text/plain": [
       "[u'people don think just like objective say morality',\n",
       " u'graphics thanks files image file program windows know',\n",
       " u'space nasa launch shuttle orbit moon lunar earth',\n",
       " u'ico bobbe tek beauchaine bronx manhattan sank queens',\n",
       " u'god jesus bible believe christian atheism does belief']"
      ]
     },
     "execution_count": 22,
     "metadata": {},
     "output_type": "execute_result"
    }
   ],
   "source": [
    "show_topics(H1)"
   ]
  },
  {
   "cell_type": "markdown",
   "metadata": {},
   "source": [
    "# Excercise"
   ]
  },
  {
   "cell_type": "markdown",
   "metadata": {},
   "source": [
    "## NMF using SGD\n",
    "\n",
    "In stochastic gradient descent (SGD), we evaluate our loss function on just a sample of our data (sometimes called a mini-batch). We would get different loss values on different samples of the data, so this is why it is stochastic. It turns out that this is still an effective way to optimize, and it's much more efficient!\n",
    "\n",
    "### Applying SGD to NMF\n",
    "\n",
    "Goal: Decompose $V\\;(m \\times n)$ into\n",
    "$$ V \\approx HW$$\n",
    "where $W\\;(m \\times d)$ and $H\\;(d \\times n)$, $W,\\;H\\; \\geq \\;0$, and we've minimized the Frobenius norm of $V-WH$. The objective function can therefore be written as the following:\n",
    "$$\n",
    "\\min_{H \\geq 0, W \\geq 0} F(H,W) = \\frac{1}{2} ||V - HW||^{2} + \\frac{\\lambda}{2} \\left( ||H||^2 + ||W||^2 \\right)\n",
    "$$\n",
    "\n",
    "### Implementation of NMF using SGD (Excercise)\n",
    "__Approach:__ Given the objective function above, pick random positive $W$ & $H$, and then use SGD to optimize. \n",
    "\n",
    "(Note that the objective function is non-convex in nature, and is convex only if we consider $H$ and $W$ separately. You can directly write the gradient descent rule for the objective function presented above)\n",
    "\n"
   ]
  },
  {
   "cell_type": "code",
   "execution_count": 25,
   "metadata": {},
   "outputs": [
    {
     "name": "stdout",
     "output_type": "stream",
     "text": [
      "(44.41769701841429, -0.0008065166738446324, -8.201820008943212e-05, 157, 282)\n",
      "(44.37710700871779, -0.0004687975583279391, -5.301620265135183e-05, 54, 496)\n",
      "(44.34835559268037, -0.00021258284262702608, -6.62368873586681e-05, 47, 972)\n",
      "(44.3169093223005, -0.00013640655397083223, -9.367797771512566e-05, 32, 1484)\n",
      "(44.28216034092446, -9.865770787009888e-05, -0.00011349767036767684, 35, 2190)\n",
      "(44.24724729841878, -0.00011437498273686834, -0.00012819429141173802, 55, 2918)\n",
      "(44.21570190588184, -0.00014506739905541935, -0.00013340095270681, 31, 3665)\n",
      "(44.18958220198167, -0.00016660688530200992, -0.00015067746873845855, 42, 4627)\n",
      "(44.16896674315854, -0.000216317911610624, -0.00015780587567755782, 82, 5272)\n",
      "(44.15267249266656, -0.00020402065225172308, -0.00013738734204774876, 57, 6184)\n"
     ]
    },
    {
     "data": {
      "text/plain": [
       "[u'space god people think don just like know',\n",
       " u'god just don people think does like know',\n",
       " u'just don people god know space think like',\n",
       " u'don people space like know think god just',\n",
       " u'space people don just think god like does']"
      ]
     },
     "execution_count": 25,
     "metadata": {},
     "output_type": "execute_result"
    }
   ],
   "source": [
    "lam=1e3\n",
    "lr=1e-2\n",
    "m, n = vectors_tfidf.shape\n",
    "\n",
    "mu = 1e-6\n",
    "def grads(M, W, H):\n",
    "    R = W.dot(H)-M\n",
    "    return R.dot(H.T) + penalty(W, mu)*lam, W.T.dot(R) + penalty(H, mu)*lam # dW, dH\n",
    "\n",
    "def penalty(M, mu):\n",
    "    return np.where(M>=mu,0, np.min(M - mu, 0))\n",
    "\n",
    "def upd(M, W, H, lr):\n",
    "    dW,dH = grads(M,W,H)\n",
    "    W -= lr*dW; H -= lr*dH\n",
    "\n",
    "def report(M,W,H): \n",
    "    print(np.linalg.norm(M-W.dot(H)), W.min(), H.min(), (W<0).sum(), (H<0).sum())\n",
    "    \n",
    "W = np.abs(np.random.normal(scale=0.01, size=(m,d)))\n",
    "H = np.abs(np.random.normal(scale=0.01, size=(d,n)))\n",
    "\n",
    "for i in range(100): \n",
    "    upd(vectors_tfidf,W,H,lr)\n",
    "    if i % 10 == 0: report(vectors_tfidf,W,H)\n",
    "        \n",
    "show_topics(H)"
   ]
  },
  {
   "cell_type": "code",
   "execution_count": null,
   "metadata": {},
   "outputs": [],
   "source": []
  }
 ],
 "metadata": {
  "kernelspec": {
   "display_name": "Python 3",
   "language": "python",
   "name": "python3"
  },
  "language_info": {
   "codemirror_mode": {
    "name": "ipython",
    "version": 2
   },
   "file_extension": ".py",
   "mimetype": "text/x-python",
   "name": "python",
   "nbconvert_exporter": "python",
   "pygments_lexer": "ipython2",
   "version": "2.7.17"
  }
 },
 "nbformat": 4,
 "nbformat_minor": 2
}
