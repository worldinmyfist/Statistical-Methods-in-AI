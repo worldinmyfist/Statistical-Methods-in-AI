{
 "cells": [
  {
   "cell_type": "markdown",
   "metadata": {
    "colab_type": "text",
    "id": "fwxWcO7fqb-L"
   },
   "source": [
    "# Excercise - Multi-class classification of MNIST using Perceptron"
   ]
  },
  {
   "cell_type": "markdown",
   "metadata": {
    "colab_type": "text",
    "id": "vcygblmOmQDZ"
   },
   "source": [
    "In binary perceptron, where $\\mathbf{y} \\in \\{-1, +1\\}$, we used to update our weights only for wrongly classified examples.\n",
    "\n",
    "The multi-class perceptron is regarded as a generalization of binary perceptron. Learning through iteration is the same as the perceptron. Weighted inputs are passed through a multiclass signum activation function. If the predicted output label is the same as true label then weights are not updated. However, when predicted output label $\\neq$ true label, then the wrongly classified input example is added to the weights of the correct label and subtracted from the weights of the incorrect label. Effectively, this amounts to ’rewarding’ the correct weight vector, ’punishing’ the misleading, incorrect weight\n",
    "vector, and leaving alone an other weight vectors."
   ]
  },
  {
   "cell_type": "code",
   "execution_count": 1,
   "metadata": {},
   "outputs": [],
   "source": [
    "from sklearn import datasets\n",
    "from sklearn.datasets import make_classification\n",
    "from sklearn.model_selection import train_test_split\n",
    "\n",
    "import matplotlib.pyplot as plt\n",
    "import random\n",
    "import numpy as np\n",
    "import seaborn as sns; sns.set();\n",
    "import pandas as pd\n",
    "import math\n",
    "#import gif\n",
    "import warnings\n",
    "warnings.filterwarnings('ignore')"
   ]
  },
  {
   "cell_type": "code",
   "execution_count": 2,
   "metadata": {
    "colab": {},
    "colab_type": "code",
    "executionInfo": {
     "elapsed": 223975,
     "status": "ok",
     "timestamp": 1596984132348,
     "user": {
      "displayName": "KARTIK RISHI BHARADWAJ 14BEE0070",
      "photoUrl": "",
      "userId": "12368401133146776355"
     },
     "user_tz": -330
    },
    "id": "gNkGLnbjTY-s"
   },
   "outputs": [],
   "source": [
    "# Setting the seed to ensure reproducibility of experiments\n",
    "np.random.seed(11)\n",
    "\n",
    "# One-hot encoding of target label, Y\n",
    "def one_hot(a):\n",
    "  b = -1 * np.ones((a.size, a.max()+1))\n",
    "  b[np.arange(a.size), a] = 1\n",
    "  return b\n",
    "\n",
    "# Loading digits datasets\n",
    "digits = datasets.load_digits()\n",
    "\n",
    "# One-hot encoding of target label, Y\n",
    "Y = digits.target\n",
    "Y = one_hot(Y)\n",
    "\n",
    "# Adding column of ones to absorb bias b of the hyperplane into X\n",
    "X = digits.data\n",
    "bias_ones = np.ones((len(X), 1))\n",
    "X = np.hstack((X, bias_ones))"
   ]
  },
  {
   "cell_type": "code",
   "execution_count": 3,
   "metadata": {
    "colab": {
     "base_uri": "https://localhost:8080/",
     "height": 67
    },
    "colab_type": "code",
    "executionInfo": {
     "elapsed": 223957,
     "status": "ok",
     "timestamp": 1596984132353,
     "user": {
      "displayName": "KARTIK RISHI BHARADWAJ 14BEE0070",
      "photoUrl": "",
      "userId": "12368401133146776355"
     },
     "user_tz": -330
    },
    "id": "0BPvc5P8KvrM",
    "outputId": "233f09b1-7641-4c60-c21d-74a2264f8bc3"
   },
   "outputs": [
    {
     "name": "stdout",
     "output_type": "stream",
     "text": [
      "('Training dataset: ', (1257, 65))\n",
      "('Validation dataset: ', (180, 65))\n",
      "('Test dataset: ', (360, 65))\n"
     ]
    }
   ],
   "source": [
    "# Train-val-test data\n",
    "X_train_val, X_test, Y_train_val, Y_test = train_test_split(X, Y, shuffle=True, test_size = 0.2)\n",
    "X_train, X_val, Y_train, Y_val = train_test_split(X_train_val, Y_train_val, test_size = 0.12517)\n",
    "\n",
    "print(\"Training dataset: \", X_train.shape)\n",
    "print(\"Validation dataset: \", X_val.shape)\n",
    "print(\"Test dataset: \", X_test.shape)"
   ]
  },
  {
   "cell_type": "code",
   "execution_count": 4,
   "metadata": {
    "colab": {
     "base_uri": "https://localhost:8080/",
     "height": 292
    },
    "colab_type": "code",
    "executionInfo": {
     "elapsed": 223939,
     "status": "ok",
     "timestamp": 1596984132358,
     "user": {
      "displayName": "KARTIK RISHI BHARADWAJ 14BEE0070",
      "photoUrl": "",
      "userId": "12368401133146776355"
     },
     "user_tz": -330
    },
    "id": "QPJZdeDtUfoy",
    "outputId": "66a50417-5c21-4158-f029-20ef755e50f4"
   },
   "outputs": [
    {
     "data": {
      "text/plain": [
       "<Figure size 640x480 with 0 Axes>"
      ]
     },
     "metadata": {},
     "output_type": "display_data"
    },
    {
     "data": {
      "image/png": "[encoded data removed]",
      "text/plain": [
       "<Figure size 480x480 with 1 Axes>"
      ]
     },
     "metadata": {},
     "output_type": "display_data"
    }
   ],
   "source": [
    "sns.reset_orig();\n",
    "\n",
    "plt.gray()\n",
    "plt.matshow(digits.images[10])\n",
    "plt.show();"
   ]
  },
  {
   "cell_type": "markdown",
   "metadata": {
    "colab_type": "text",
    "id": "g2KVp57S1Zah"
   },
   "source": [
    "#### Write your code below"
   ]
  },
  {
   "cell_type": "code",
   "execution_count": 5,
   "metadata": {},
   "outputs": [
    {
     "name": "stdout",
     "output_type": "stream",
     "text": [
      "('Training Accuracy', 92.84009546539379)\n",
      "('Validation Accuracy', 91.11111111111111)\n",
      "('Testing Accuracy', 88.61111111111111)\n"
     ]
    }
   ],
   "source": [
    "def signum(x):\n",
    "    if x >=0: return 1\n",
    "    else : return -1\n",
    "\n",
    "def Perceptron(X_train,Y_train,epochs,lr):\n",
    "    epoch = 1\n",
    "    m = 1\n",
    "    # One vs Rest is a two class classification problem\n",
    "    w = np.zeros((X_train.shape[1],1))     \n",
    "    while(m!=0 and epoch <= epochs):       \n",
    "        m = 0 \n",
    "        for xi,yi in zip(X_train,Y_train):  \n",
    "            y_hat = signum(np.dot(w.T,xi)[0]) \n",
    "                                            \n",
    "            if yi*y_hat <0:                 \n",
    "                w = (w.T + yi*xi).T        \n",
    "                m = m + 1                   \n",
    "        epoch = epoch + 1                   \n",
    "    return w,m\n",
    "\n",
    "def predictclass(X_fit,Y_fit,weights):\n",
    "    predictedclass = np.zeros(X_fit.shape[0])\n",
    "    for i in range(X_fit.shape[0]):\n",
    "        for j in range(Y_fit.shape[1]):\n",
    "            predict = np.dot(weights[:,j],X_fit[i,:]) \n",
    "            if predict >0:\n",
    "                predictedclass[i] = j\n",
    "                break\n",
    "    return predictedclass\n",
    "\n",
    "def accuracy(Y_val,predictedclass):\n",
    "    error = 0\n",
    "    numsamples = Y_val.shape[0]\n",
    "    for i in range(numsamples):\n",
    "        Actualclass = Y_val[i,:]\n",
    "        if Actualclass[int(predictedclass[i])]!=1.0:\n",
    "             error+=1\n",
    "    return (1-float(error)/float(numsamples))\n",
    "\n",
    "#Training the model\n",
    "weights = np.zeros((X_train.shape[1],Y_train.shape[1]))\n",
    "for i in range(Y_train.shape[1]):\n",
    "    w,err = Perceptron(X_train,Y_train[:,i],200,1) \n",
    "    weights[:,i] = w[:,0]\n",
    "    \n",
    "#Accuracy for training set    \n",
    "predictedclass_train = predictclass(X_train,Y_train,weights)\n",
    "print('Training Accuracy',accuracy(Y_train,predictedclass_train) * 100)\n",
    "\n",
    "#Accuracy for validation set    \n",
    "predictedclass_validation = predictclass(X_val,Y_val,weights)\n",
    "print('Validation Accuracy',accuracy(Y_val,predictedclass_validation) * 100)\n",
    "\n",
    "#Accuracy for test set\n",
    "predictedclass_test = predictclass(X_test,Y_test,weights)\n",
    "print('Testing Accuracy',accuracy(Y_test,predictedclass_test) * 100)\n"
   ]
  },
  {
   "cell_type": "code",
   "execution_count": null,
   "metadata": {},
   "outputs": [],
   "source": []
  },
  {
   "cell_type": "code",
   "execution_count": null,
   "metadata": {},
   "outputs": [],
   "source": []
  }
 ],
 "metadata": {
  "colab": {
   "collapsed_sections": [
    "ZQQfFFOrqST3"
   ],
   "name": "LinearPerceptron_draft4.ipynb",
   "provenance": [],
   "toc_visible": true
  },
  "kernelspec": {
   "display_name": "Python 3",
   "language": "python",
   "name": "python3"
  },
  "language_info": {
   "codemirror_mode": {
    "name": "ipython",
    "version": 2
   },
   "file_extension": ".py",
   "mimetype": "text/x-python",
   "name": "python",
   "nbconvert_exporter": "python",
   "pygments_lexer": "ipython2",
   "version": "2.7.17"
  }
 },
 "nbformat": 4,
 "nbformat_minor": 1
}
