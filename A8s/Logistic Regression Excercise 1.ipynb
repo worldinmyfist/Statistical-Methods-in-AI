{
 "cells": [
  {
   "cell_type": "markdown",
   "metadata": {},
   "source": [
    "## Excercise 1 - One vs One classifier\n",
    "\n",
    "The aim of the excercise is to build a multiclass classifier using a binary classifier using a one-vs-one classifier. Similar to the tutorial, you are provided with a 3 class synthetic dataset. In a one-vs-one classifier, a binary classifier is learnt between every pair of class. You are required to write the code and visualize the decision boundaries for the one-vs-one classifier setting."
   ]
  },
  {
   "cell_type": "code",
   "execution_count": 1,
   "metadata": {},
   "outputs": [
    {
     "name": "stdout",
     "output_type": "stream",
     "text": [
      "running importer\n"
     ]
    }
   ],
   "source": [
    "# Import util.ipynb for helper functions\n",
    "import io, os, sys, types\n",
    "from IPython import get_ipython\n",
    "from nbformat import read\n",
    "from IPython.core.interactiveshell import InteractiveShell\n",
    "\n",
    "def find_notebook(fullname, path=None):\n",
    "    \"\"\"find a notebook, given its fully qualified name and an optional path\n",
    "\n",
    "    This turns \"foo.bar\" into \"foo/bar.ipynb\"\n",
    "    and tries turning \"Foo_Bar\" into \"Foo Bar\" if Foo_Bar\n",
    "    does not exist.\n",
    "    \"\"\"\n",
    "    name = fullname.rsplit('.', 1)[-1]\n",
    "    if not path:\n",
    "        path = ['']\n",
    "    for d in path:\n",
    "        nb_path = os.path.join(d, name + \".ipynb\")\n",
    "        #print('searching: %s'%nb_path)\n",
    "        if os.path.isfile(nb_path):\n",
    "            return nb_path\n",
    "        # let import Notebook_Name find \"Notebook Name.ipynb\"\n",
    "        nb_path = nb_path.replace(\"_\", \" \")\n",
    "        #print('searching: %s' % nb_path)\n",
    "        if os.path.isfile(nb_path):\n",
    "            return nb_path\n",
    "\n",
    "class NotebookLoader(object):\n",
    "    \"\"\"Module Loader for Jupyter Notebooks\"\"\"\n",
    "    def __init__(self, path=None):\n",
    "        self.shell = InteractiveShell.instance()\n",
    "        self.path = path\n",
    "\n",
    "    def load_module(self, fullname):\n",
    "        \"\"\"import a notebook as a module\"\"\"\n",
    "        path = find_notebook(fullname, self.path)\n",
    "\n",
    "        print (\"importing Jupyter notebook from %s\" % path)\n",
    "\n",
    "        # load the notebook object\n",
    "        with io.open(path, 'r', encoding='utf-8') as f:\n",
    "            nb = read(f, 4)\n",
    "\n",
    "\n",
    "        # create the module and add it to sys.modules\n",
    "        # if name in sys.modules:\n",
    "        #    return sys.modules[name]\n",
    "        mod = types.ModuleType(fullname)\n",
    "        mod.__file__ = path\n",
    "        mod.__loader__ = self\n",
    "        mod.__dict__['get_ipython'] = get_ipython\n",
    "        sys.modules[fullname] = mod\n",
    "\n",
    "        # extra work to ensure that magics that would affect the user_ns\n",
    "        # actually affect the notebook module's ns\n",
    "        save_user_ns = self.shell.user_ns\n",
    "        self.shell.user_ns = mod.__dict__\n",
    "\n",
    "        #print('Found %d cells'%len(nb.cells))\n",
    "        try:\n",
    "          for cell in nb.cells:\n",
    "            if cell.cell_type == 'code':\n",
    "                # transform the input to executable Python\n",
    "                code = self.shell.input_transformer_manager.transform_cell(cell.source)\n",
    "                # run the code in themodule\n",
    "                exec(code, mod.__dict__)\n",
    "        finally:\n",
    "            self.shell.user_ns = save_user_ns\n",
    "        return mod\n",
    "\n",
    "class NotebookFinder(object):\n",
    "    \"\"\"Module finder that locates Jupyter Notebooks\"\"\"\n",
    "    def __init__(self):\n",
    "        self.loaders = {}\n",
    "\n",
    "    def find_module(self, fullname, path=None):\n",
    "        nb_path = find_notebook(fullname, path)\n",
    "        if not nb_path:\n",
    "            return\n",
    "\n",
    "        key = path\n",
    "        if path:\n",
    "            # lists aren't hashable\n",
    "            key = os.path.sep.join(path)\n",
    "\n",
    "        if key not in self.loaders:\n",
    "            self.loaders[key] = NotebookLoader(path)\n",
    "        return self.loaders[key]\n",
    "\n",
    "\n",
    "#  register the NotebookFinder with sys.meta_path\n",
    "print('running importer')\n",
    "sys.meta_path.append(NotebookFinder())"
   ]
  },
  {
   "cell_type": "code",
   "execution_count": 2,
   "metadata": {},
   "outputs": [
    {
     "name": "stdout",
     "output_type": "stream",
     "text": [
      "importing Jupyter notebook from utils.ipynb\n"
     ]
    }
   ],
   "source": [
    "# Imports\n",
    "\n",
    "from sklearn import datasets\n",
    "from sklearn.datasets import fetch_openml\n",
    "from sklearn.datasets import make_classification\n",
    "from sklearn.model_selection import train_test_split\n",
    "import matplotlib.pyplot as plt\n",
    "import numpy as np\n",
    "import seaborn as sns; sns.set();\n",
    "import pandas as pd\n",
    "from utils import plot_decision_boundary, get_accuracy, get_prediction\n",
    "from utils import plot_2D_input_datapoints, generate_gifs, sigmoid, normalize\n",
    "import math\n",
    "import gif\n",
    "from tqdm import tqdm\n",
    "import warnings\n",
    "warnings.filterwarnings('ignore')"
   ]
  },
  {
   "cell_type": "code",
   "execution_count": 3,
   "metadata": {},
   "outputs": [
    {
     "data": {
      "text/plain": [
       "<Figure size 576x576 with 0 Axes>"
      ]
     },
     "metadata": {},
     "output_type": "display_data"
    }
   ],
   "source": [
    "fig = plt.figure(figsize=(8,8));\n",
    "\n",
    "np.random.seed(4)\n",
    "\n",
    "# Getting only linearly separable dataset\n",
    "separable = False\n",
    "while not separable:\n",
    "    samples = make_classification(n_samples=450, n_features=2, n_redundant=0, n_informative=2, n_clusters_per_class=1, n_classes=3)\n",
    "    red = samples[0][samples[1] == 0]\n",
    "    blue = samples[0][samples[1] == 1]\n",
    "    green = samples[0][samples[1] == 2]\n",
    "    separable = any([red[:, k].max() < blue[:, k].min() or red[:, k].min() > blue[:, k].max() \n",
    "                  or green[:, k].min() > blue[:, k].max() or green[:, k].min() > red[:, k].max() \n",
    "                  or blue[:, k].min() > green[:, k].max() or red[:, k].min() > green[:, k].max() for k in range(2)])\n",
    "\n",
    "X, y = samples\n",
    "\n",
    "y = y.reshape((-1, 1))\n",
    "\n",
    "# Absorbing weight b of the hyperplane\n",
    "b_ones = np.ones((len(X), 1))\n",
    "X = np.hstack((X, b_ones))"
   ]
  },
  {
   "cell_type": "code",
   "execution_count": 4,
   "metadata": {},
   "outputs": [
    {
     "name": "stdout",
     "output_type": "stream",
     "text": [
      "(450, 3) (450, 1)\n"
     ]
    }
   ],
   "source": [
    "print(X.shape, y.shape)"
   ]
  },
  {
   "cell_type": "code",
   "execution_count": 5,
   "metadata": {},
   "outputs": [
    {
     "data": {
      "image/png": "[encoded data removed]",
      "text/plain": [
       "<Figure size 432x288 with 1 Axes>"
      ]
     },
     "metadata": {},
     "output_type": "display_data"
    }
   ],
   "source": [
    "plot_2D_input_datapoints(X[:, :2], y)"
   ]
  },
  {
   "cell_type": "code",
   "execution_count": 6,
   "metadata": {},
   "outputs": [
    {
     "name": "stdout",
     "output_type": "stream",
     "text": [
      "Training dataset:  (315, 3)\n",
      "Validation dataset:  (45, 3)\n",
      "Test dataset:  (90, 3)\n"
     ]
    }
   ],
   "source": [
    "# Train-Val-Test split\n",
    "X_train_val, X_test, Y_train_val, Y_test = train_test_split(X, y, shuffle=True, test_size = 0.2)\n",
    "X_train, X_val, Y_train, Y_val = train_test_split(X_train_val, Y_train_val, test_size = 0.125)\n",
    "\n",
    "print(\"Training dataset: \", X_train.shape)\n",
    "print(\"Validation dataset: \", X_val.shape)\n",
    "print(\"Test dataset: \", X_test.shape)"
   ]
  },
  {
   "cell_type": "markdown",
   "metadata": {},
   "source": [
    "### One vs One Classifier"
   ]
  },
  {
   "cell_type": "code",
   "execution_count": 7,
   "metadata": {},
   "outputs": [],
   "source": [
    "def init_weights(n_features, n_outputs):\n",
    "    const = 1 / np.sqrt(n_features)\n",
    "    W = np.random.randn(n_features, n_outputs) * const\n",
    "    W[-1, :] = 0\n",
    "    return W\n",
    "\n",
    "def two_class_data(X_in, Y_in, k1, k2):\n",
    "    y = Y_in.ravel()\n",
    "    idx = np.where((y == k1) | (y == k2))\n",
    "    X = X_in[idx]\n",
    "    Y = Y_in[idx]\n",
    "    Y = np.where(Y == k1, 1, 0)\n",
    "    return X, Y\n",
    "\n",
    "def predict(X, W, pred='no'):\n",
    "    return sigmoid(X @ W, pred)\n",
    "\n",
    "def cost_fun(Y, Y_pred):\n",
    "    Y_pred = np.where(Y == 1, Y_pred, 1 - Y_pred)\n",
    "    cost = -1 / Y.shape[0] * np.sum(np.log(Y_pred))\n",
    "    return cost\n",
    "\n",
    "def accuracy(X, Y, W):\n",
    "    n_classes = int(np.sqrt(W.shape[1]))\n",
    "    y_pred = np.argmax(X @ W, axis = 1) // n_classes\n",
    "    return np.count_nonzero(Y.ravel() == y_pred) / Y.shape[0]\n",
    "\n",
    "def train(X_train, Y_train, epochs=1000, lr=0.01):\n",
    "    n_examples, n_features = X_train.shape\n",
    "    _, n_outputs = Y_train.shape\n",
    "    classes = np.unique(Y_train)\n",
    "    \n",
    "    W_k_classes = []\n",
    "    for k1 in classes:\n",
    "        for k2 in classes:\n",
    "            X, Y = two_class_data(X_train, Y_train, k1, k2)\n",
    "            n_samples, _ = X.shape\n",
    "            W = init_weights(n_features, n_outputs)\n",
    "            for epoch in range(epochs):\n",
    "                Y_pred = predict(X, W)\n",
    "                gradient = 1 / n_samples * X.T @ (Y - Y_pred)\n",
    "                W += lr * gradient\n",
    "                if epoch % (epochs // 5) == 0:\n",
    "                    print(f\"Classes {k1}, {k2}: epoch {epoch}: train_loss {cost_fun(Y, Y_pred)}\")\n",
    "            W_k_classes.append(W.ravel())\n",
    "            \n",
    "    return np.array(W_k_classes).T"
   ]
  },
  {
   "cell_type": "code",
   "execution_count": 8,
   "metadata": {
    "scrolled": true
   },
   "outputs": [
    {
     "name": "stdout",
     "output_type": "stream",
     "text": [
      "Classes 0, 0: epoch 0: train_loss 0.874731902277177\n",
      "Classes 0, 0: epoch 200: train_loss 0.20186075132742323\n",
      "Classes 0, 0: epoch 400: train_loss 0.1198230616007878\n",
      "Classes 0, 0: epoch 600: train_loss 0.08778800703081775\n",
      "Classes 0, 0: epoch 800: train_loss 0.0701609076124569\n",
      "Classes 0, 1: epoch 0: train_loss 0.29301554197840607\n",
      "Classes 0, 1: epoch 200: train_loss 0.19935715883616303\n",
      "Classes 0, 1: epoch 400: train_loss 0.16077524402225188\n",
      "Classes 0, 1: epoch 600: train_loss 0.1393797703454775\n",
      "Classes 0, 1: epoch 800: train_loss 0.12555078302124223\n",
      "Classes 0, 2: epoch 0: train_loss 1.094326792499237\n",
      "Classes 0, 2: epoch 200: train_loss 0.4945589427938569\n",
      "Classes 0, 2: epoch 400: train_loss 0.34479750267666553\n",
      "Classes 0, 2: epoch 600: train_loss 0.2815349996572249\n",
      "Classes 0, 2: epoch 800: train_loss 0.24567037349305423\n",
      "Classes 1, 0: epoch 0: train_loss 0.8481724412446889\n",
      "Classes 1, 0: epoch 200: train_loss 0.29730522430685996\n",
      "Classes 1, 0: epoch 400: train_loss 0.19783356126896595\n",
      "Classes 1, 0: epoch 600: train_loss 0.15806588992913057\n",
      "Classes 1, 0: epoch 800: train_loss 0.13636120194495327\n",
      "Classes 1, 1: epoch 0: train_loss 0.7460688844671223\n",
      "Classes 1, 1: epoch 200: train_loss 0.18115796622317437\n",
      "Classes 1, 1: epoch 400: train_loss 0.09786843651873511\n",
      "Classes 1, 1: epoch 600: train_loss 0.06710613969595977\n",
      "Classes 1, 1: epoch 800: train_loss 0.051198609589928924\n",
      "Classes 1, 2: epoch 0: train_loss 0.4034448175026284\n",
      "Classes 1, 2: epoch 200: train_loss 0.2693126190918602\n",
      "Classes 1, 2: epoch 400: train_loss 0.2170074863914856\n",
      "Classes 1, 2: epoch 600: train_loss 0.18803617503444242\n",
      "Classes 1, 2: epoch 800: train_loss 0.1689239540578563\n",
      "Classes 2, 0: epoch 0: train_loss 0.7360366121670465\n",
      "Classes 2, 0: epoch 200: train_loss 0.3951344788016835\n",
      "Classes 2, 0: epoch 400: train_loss 0.301961819554969\n",
      "Classes 2, 0: epoch 600: train_loss 0.258440468452393\n",
      "Classes 2, 0: epoch 800: train_loss 0.23192080730092413\n",
      "Classes 2, 1: epoch 0: train_loss 0.7772727084263464\n",
      "Classes 2, 1: epoch 200: train_loss 0.42304884519293845\n",
      "Classes 2, 1: epoch 400: train_loss 0.29669675436016446\n",
      "Classes 2, 1: epoch 600: train_loss 0.23618891064790515\n",
      "Classes 2, 1: epoch 800: train_loss 0.2008781318692319\n",
      "Classes 2, 2: epoch 0: train_loss 0.4524387276207787\n",
      "Classes 2, 2: epoch 200: train_loss 0.19660383077275181\n",
      "Classes 2, 2: epoch 400: train_loss 0.13251007380254012\n",
      "Classes 2, 2: epoch 600: train_loss 0.10218008425029732\n",
      "Classes 2, 2: epoch 800: train_loss 0.08405583298937515\n"
     ]
    },
    {
     "data": {
      "text/plain": [
       "(3, 9)"
      ]
     },
     "execution_count": 8,
     "metadata": {},
     "output_type": "execute_result"
    }
   ],
   "source": [
    "W = train(X_train, Y_train)\n",
    "W.shape"
   ]
  },
  {
   "cell_type": "code",
   "execution_count": 9,
   "metadata": {},
   "outputs": [
    {
     "name": "stdout",
     "output_type": "stream",
     "text": [
      "Training accuracy: 0.9396825396825397\n",
      "Validation accuracy: 0.9111111111111111\n",
      "Test accuracy: 0.9666666666666667\n"
     ]
    }
   ],
   "source": [
    "print(f\"Training accuracy: {accuracy(X_train, Y_train, W)}\")\n",
    "print(f\"Validation accuracy: {accuracy(X_val, Y_val, W)}\")\n",
    "print(f\"Test accuracy: {accuracy(X_test, Y_test, W)}\")"
   ]
  }
 ],
 "metadata": {
  "kernelspec": {
   "display_name": "Python (cvit)",
   "language": "python",
   "name": "cvit"
  },
  "language_info": {
   "codemirror_mode": {
    "name": "ipython",
    "version": 3
   },
   "file_extension": ".py",
   "mimetype": "text/x-python",
   "name": "python",
   "nbconvert_exporter": "python",
   "pygments_lexer": "ipython3",
   "version": "3.7.7"
  }
 },
 "nbformat": 4,
 "nbformat_minor": 2
}
